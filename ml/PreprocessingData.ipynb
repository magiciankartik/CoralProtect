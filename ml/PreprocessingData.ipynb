{
 "cells": [
  {
   "cell_type": "markdown",
   "metadata": {},
   "source": [
    "# Importing ReefBase Database and pushing data to Firebase\n",
    "The Dataset contains LatLong, Temp and Condition of reefs"
   ]
  },
  {
   "cell_type": "markdown",
   "metadata": {},
   "source": [
    "### Importing Libraries"
   ]
  },
  {
   "cell_type": "code",
   "execution_count": 75,
   "metadata": {},
   "outputs": [],
   "source": [
    "import pandas as pd\n",
    "import numpy as np\n",
    "\n",
    "import random\n",
    "import string\n",
    "\n",
    "from firebase import firebase"
   ]
  },
  {
   "cell_type": "code",
   "execution_count": 15,
   "metadata": {},
   "outputs": [],
   "source": [
    "df = pd.read_excel('data/CoralBleaching.xlsx')"
   ]
  },
  {
   "cell_type": "code",
   "execution_count": 16,
   "metadata": {},
   "outputs": [],
   "source": [
    "df = df.drop(columns=['REGION', 'SUBREGION', 'COUNTRY', 'LOCATION', 'MONTH', 'YEAR', 'DEPTH', 'RECOVERY_CODE', 'RECOVERY', 'SURVEY_TYPE', 'SURVEY_AREA', 'OTHER_FACTORS', 'REMARKS', 'BLEACHING_SEVERITY', 'CORAL_FAMILY', 'CORAL_SPECIES', 'PERCENTAGE_AFFECTED', 'PERCENTAGE_AFFECTED', 'BLEACHING_DURATION', 'MORTALITY_CODE', 'MORTALITY', 'SOURCE', 'REFERENCE_CODE', 'COUNTRY_CODE', 'WATER_TEMPERATURE', 'ID'])"
   ]
  },
  {
   "cell_type": "code",
   "execution_count": 17,
   "metadata": {},
   "outputs": [
    {
     "data": {
      "text/html": [
       "<div>\n",
       "<style scoped>\n",
       "    .dataframe tbody tr th:only-of-type {\n",
       "        vertical-align: middle;\n",
       "    }\n",
       "\n",
       "    .dataframe tbody tr th {\n",
       "        vertical-align: top;\n",
       "    }\n",
       "\n",
       "    .dataframe thead th {\n",
       "        text-align: right;\n",
       "    }\n",
       "</style>\n",
       "<table border=\"1\" class=\"dataframe\">\n",
       "  <thead>\n",
       "    <tr style=\"text-align: right;\">\n",
       "      <th></th>\n",
       "      <th>LAT</th>\n",
       "      <th>LON</th>\n",
       "      <th>SEVERITY_CODE</th>\n",
       "    </tr>\n",
       "  </thead>\n",
       "  <tbody>\n",
       "    <tr>\n",
       "      <th>0</th>\n",
       "      <td>-21.22000</td>\n",
       "      <td>55.22000</td>\n",
       "      <td>0</td>\n",
       "    </tr>\n",
       "    <tr>\n",
       "      <th>1</th>\n",
       "      <td>-21.05000</td>\n",
       "      <td>55.23000</td>\n",
       "      <td>0</td>\n",
       "    </tr>\n",
       "    <tr>\n",
       "      <th>2</th>\n",
       "      <td>-21.16000</td>\n",
       "      <td>55.28000</td>\n",
       "      <td>0</td>\n",
       "    </tr>\n",
       "    <tr>\n",
       "      <th>3</th>\n",
       "      <td>43.00000</td>\n",
       "      <td>5.00000</td>\n",
       "      <td>-1</td>\n",
       "    </tr>\n",
       "    <tr>\n",
       "      <th>4</th>\n",
       "      <td>10.12000</td>\n",
       "      <td>99.81000</td>\n",
       "      <td>0</td>\n",
       "    </tr>\n",
       "    <tr>\n",
       "      <th>5</th>\n",
       "      <td>-16.63333</td>\n",
       "      <td>59.63333</td>\n",
       "      <td>-1</td>\n",
       "    </tr>\n",
       "    <tr>\n",
       "      <th>6</th>\n",
       "      <td>16.00000</td>\n",
       "      <td>-95.00000</td>\n",
       "      <td>3</td>\n",
       "    </tr>\n",
       "    <tr>\n",
       "      <th>7</th>\n",
       "      <td>9.27230</td>\n",
       "      <td>-82.00650</td>\n",
       "      <td>2</td>\n",
       "    </tr>\n",
       "    <tr>\n",
       "      <th>8</th>\n",
       "      <td>17.79000</td>\n",
       "      <td>-64.63000</td>\n",
       "      <td>2</td>\n",
       "    </tr>\n",
       "    <tr>\n",
       "      <th>9</th>\n",
       "      <td>17.68400</td>\n",
       "      <td>-64.73900</td>\n",
       "      <td>1</td>\n",
       "    </tr>\n",
       "  </tbody>\n",
       "</table>\n",
       "</div>"
      ],
      "text/plain": [
       "        LAT       LON  SEVERITY_CODE\n",
       "0 -21.22000  55.22000              0\n",
       "1 -21.05000  55.23000              0\n",
       "2 -21.16000  55.28000              0\n",
       "3  43.00000   5.00000             -1\n",
       "4  10.12000  99.81000              0\n",
       "5 -16.63333  59.63333             -1\n",
       "6  16.00000 -95.00000              3\n",
       "7   9.27230 -82.00650              2\n",
       "8  17.79000 -64.63000              2\n",
       "9  17.68400 -64.73900              1"
      ]
     },
     "execution_count": 17,
     "metadata": {},
     "output_type": "execute_result"
    }
   ],
   "source": [
    "df.head(10)"
   ]
  },
  {
   "cell_type": "code",
   "execution_count": 20,
   "metadata": {},
   "outputs": [],
   "source": [
    "l = []\n",
    "for code in df['SEVERITY_CODE']:\n",
    "    if code > 0:\n",
    "        l.append(1)\n",
    "    else:\n",
    "        l.append(0)\n",
    "df['SEVERITY_CODE'] = l"
   ]
  },
  {
   "cell_type": "code",
   "execution_count": 24,
   "metadata": {},
   "outputs": [
    {
     "data": {
      "text/html": [
       "<div>\n",
       "<style scoped>\n",
       "    .dataframe tbody tr th:only-of-type {\n",
       "        vertical-align: middle;\n",
       "    }\n",
       "\n",
       "    .dataframe tbody tr th {\n",
       "        vertical-align: top;\n",
       "    }\n",
       "\n",
       "    .dataframe thead th {\n",
       "        text-align: right;\n",
       "    }\n",
       "</style>\n",
       "<table border=\"1\" class=\"dataframe\">\n",
       "  <thead>\n",
       "    <tr style=\"text-align: right;\">\n",
       "      <th></th>\n",
       "      <th>LAT</th>\n",
       "      <th>LON</th>\n",
       "      <th>SEVERITY_CODE</th>\n",
       "    </tr>\n",
       "  </thead>\n",
       "  <tbody>\n",
       "    <tr>\n",
       "      <th>0</th>\n",
       "      <td>-21.22000</td>\n",
       "      <td>55.22000</td>\n",
       "      <td>0</td>\n",
       "    </tr>\n",
       "    <tr>\n",
       "      <th>1</th>\n",
       "      <td>-21.05000</td>\n",
       "      <td>55.23000</td>\n",
       "      <td>0</td>\n",
       "    </tr>\n",
       "    <tr>\n",
       "      <th>2</th>\n",
       "      <td>-21.16000</td>\n",
       "      <td>55.28000</td>\n",
       "      <td>0</td>\n",
       "    </tr>\n",
       "    <tr>\n",
       "      <th>3</th>\n",
       "      <td>43.00000</td>\n",
       "      <td>5.00000</td>\n",
       "      <td>0</td>\n",
       "    </tr>\n",
       "    <tr>\n",
       "      <th>4</th>\n",
       "      <td>10.12000</td>\n",
       "      <td>99.81000</td>\n",
       "      <td>0</td>\n",
       "    </tr>\n",
       "    <tr>\n",
       "      <th>5</th>\n",
       "      <td>-16.63333</td>\n",
       "      <td>59.63333</td>\n",
       "      <td>0</td>\n",
       "    </tr>\n",
       "    <tr>\n",
       "      <th>6</th>\n",
       "      <td>16.00000</td>\n",
       "      <td>-95.00000</td>\n",
       "      <td>1</td>\n",
       "    </tr>\n",
       "    <tr>\n",
       "      <th>7</th>\n",
       "      <td>9.27230</td>\n",
       "      <td>-82.00650</td>\n",
       "      <td>1</td>\n",
       "    </tr>\n",
       "    <tr>\n",
       "      <th>8</th>\n",
       "      <td>17.79000</td>\n",
       "      <td>-64.63000</td>\n",
       "      <td>1</td>\n",
       "    </tr>\n",
       "    <tr>\n",
       "      <th>9</th>\n",
       "      <td>17.68400</td>\n",
       "      <td>-64.73900</td>\n",
       "      <td>1</td>\n",
       "    </tr>\n",
       "  </tbody>\n",
       "</table>\n",
       "</div>"
      ],
      "text/plain": [
       "        LAT       LON  SEVERITY_CODE\n",
       "0 -21.22000  55.22000              0\n",
       "1 -21.05000  55.23000              0\n",
       "2 -21.16000  55.28000              0\n",
       "3  43.00000   5.00000              0\n",
       "4  10.12000  99.81000              0\n",
       "5 -16.63333  59.63333              0\n",
       "6  16.00000 -95.00000              1\n",
       "7   9.27230 -82.00650              1\n",
       "8  17.79000 -64.63000              1\n",
       "9  17.68400 -64.73900              1"
      ]
     },
     "execution_count": 24,
     "metadata": {},
     "output_type": "execute_result"
    }
   ],
   "source": [
    "df.head(10)"
   ]
  },
  {
   "cell_type": "code",
   "execution_count": 28,
   "metadata": {},
   "outputs": [],
   "source": [
    "df['lat'] = df['LAT']"
   ]
  },
  {
   "cell_type": "code",
   "execution_count": 32,
   "metadata": {},
   "outputs": [],
   "source": [
    "df['long'] = df['LON']"
   ]
  },
  {
   "cell_type": "code",
   "execution_count": 33,
   "metadata": {},
   "outputs": [],
   "source": [
    "df['isDead'] = df['SEVERITY_CODE']"
   ]
  },
  {
   "cell_type": "code",
   "execution_count": 35,
   "metadata": {},
   "outputs": [],
   "source": [
    "df = df.drop(columns = ['LAT', 'LON', 'SEVERITY_CODE'])"
   ]
  },
  {
   "cell_type": "code",
   "execution_count": 37,
   "metadata": {},
   "outputs": [
    {
     "data": {
      "text/plain": [
       "6190"
      ]
     },
     "execution_count": 37,
     "metadata": {},
     "output_type": "execute_result"
    }
   ],
   "source": [
    "len(df)"
   ]
  },
  {
   "cell_type": "code",
   "execution_count": 66,
   "metadata": {},
   "outputs": [],
   "source": [
    "pH = []\n",
    "temp = []\n",
    "isDive = []\n",
    "uID = []\n",
    "index = []\n",
    "\n",
    "for x in range(len(df)):\n",
    "    pH.append(round(random.uniform(8.5, 8.9), 2))\n",
    "    temp.append(round(random.uniform(15.12, 20.00), 2))\n",
    "    isDive.append(0)\n",
    "    uID.append(-99999)\n",
    "    index.append(''.join(random.SystemRandom().choice(string.ascii_uppercase + string.digits) for _ in range(6))\n",
    ")"
   ]
  },
  {
   "cell_type": "code",
   "execution_count": 67,
   "metadata": {},
   "outputs": [],
   "source": [
    "df['pH'] = pH\n",
    "df['temp'] = temp\n",
    "df['isDive'] = isDive\n",
    "df['uID'] = uID\n",
    "df.index = index"
   ]
  },
  {
   "cell_type": "code",
   "execution_count": 79,
   "metadata": {},
   "outputs": [
    {
     "data": {
      "text/html": [
       "<div>\n",
       "<style scoped>\n",
       "    .dataframe tbody tr th:only-of-type {\n",
       "        vertical-align: middle;\n",
       "    }\n",
       "\n",
       "    .dataframe tbody tr th {\n",
       "        vertical-align: top;\n",
       "    }\n",
       "\n",
       "    .dataframe thead th {\n",
       "        text-align: right;\n",
       "    }\n",
       "</style>\n",
       "<table border=\"1\" class=\"dataframe\">\n",
       "  <thead>\n",
       "    <tr style=\"text-align: right;\">\n",
       "      <th></th>\n",
       "      <th>lat</th>\n",
       "      <th>long</th>\n",
       "      <th>isDead</th>\n",
       "      <th>pH</th>\n",
       "      <th>temp</th>\n",
       "      <th>isDive</th>\n",
       "      <th>uID</th>\n",
       "    </tr>\n",
       "  </thead>\n",
       "  <tbody>\n",
       "    <tr>\n",
       "      <th>XJDXH2</th>\n",
       "      <td>-21.22</td>\n",
       "      <td>55.22</td>\n",
       "      <td>0</td>\n",
       "      <td>8.87</td>\n",
       "      <td>16.74</td>\n",
       "      <td>0</td>\n",
       "      <td>-99999</td>\n",
       "    </tr>\n",
       "    <tr>\n",
       "      <th>86PAYC</th>\n",
       "      <td>-21.05</td>\n",
       "      <td>55.23</td>\n",
       "      <td>0</td>\n",
       "      <td>8.79</td>\n",
       "      <td>15.54</td>\n",
       "      <td>0</td>\n",
       "      <td>-99999</td>\n",
       "    </tr>\n",
       "    <tr>\n",
       "      <th>BYV4DR</th>\n",
       "      <td>-21.16</td>\n",
       "      <td>55.28</td>\n",
       "      <td>0</td>\n",
       "      <td>8.65</td>\n",
       "      <td>16.97</td>\n",
       "      <td>0</td>\n",
       "      <td>-99999</td>\n",
       "    </tr>\n",
       "  </tbody>\n",
       "</table>\n",
       "</div>"
      ],
      "text/plain": [
       "          lat   long  isDead    pH   temp  isDive    uID\n",
       "XJDXH2 -21.22  55.22       0  8.87  16.74       0 -99999\n",
       "86PAYC -21.05  55.23       0  8.79  15.54       0 -99999\n",
       "BYV4DR -21.16  55.28       0  8.65  16.97       0 -99999"
      ]
     },
     "execution_count": 79,
     "metadata": {},
     "output_type": "execute_result"
    }
   ],
   "source": [
    "df[:3]"
   ]
  },
  {
   "cell_type": "code",
   "execution_count": 89,
   "metadata": {
    "scrolled": true
   },
   "outputs": [
    {
     "data": {
      "text/plain": [
       "'{\"XJDXH2\":{\"lat\":-21.22,\"long\":55.22,\"isDead\":0,\"pH\":8.87,\"temp\":16.74,\"isDive\":0,\"uID\":-99999},\"86PAYC\":{\"lat\":-21.05,\"long\":55.23,\"isDead\":0,\"pH\":8.79,\"temp\":15.54,\"isDive\":0,\"uID\":-99999},\"BYV4DR\":{\"lat\":-21.16,\"long\":55.28,\"isDead\":0,\"pH\":8.65,\"temp\":16.97,\"isDive\":0,\"uID\":-99999},\"NAAWR2\":{\"lat\":43.0,\"long\":5.0,\"isDead\":0,\"pH\":8.76,\"temp\":18.72,\"isDive\":0,\"uID\":-99999},\"QSY8QV\":{\"lat\":10.12,\"long\":99.81,\"isDead\":0,\"pH\":8.71,\"temp\":16.96,\"isDive\":0,\"uID\":-99999},\"V8BWM3\":{\"lat\":-16.63333,\"long\":59.63333,\"isDead\":0,\"pH\":8.63,\"temp\":18.84,\"isDive\":0,\"uID\":-99999},\"K5B91O\":{\"lat\":16.0,\"long\":-95.0,\"isDead\":1,\"pH\":8.63,\"temp\":16.51,\"isDive\":0,\"uID\":-99999},\"L7GTSO\":{\"lat\":9.2723,\"long\":-82.0065,\"isDead\":1,\"pH\":8.84,\"temp\":17.0,\"isDive\":0,\"uID\":-99999},\"L615GM\":{\"lat\":17.79,\"long\":-64.63,\"isDead\":1,\"pH\":8.51,\"temp\":18.68,\"isDive\":0,\"uID\":-99999},\"HLDTHS\":{\"lat\":17.684,\"long\":-64.739,\"isDead\":1,\"pH\":8.84,\"temp\":16.6,\"isDive\":0,\"uID\":-99999}}'"
      ]
     },
     "execution_count": 89,
     "metadata": {},
     "output_type": "execute_result"
    }
   ],
   "source": [
    "json = df[:10].to_json(orient='index')\n",
    "json"
   ]
  },
  {
   "cell_type": "code",
   "execution_count": 90,
   "metadata": {},
   "outputs": [
    {
     "data": {
      "text/plain": [
       "{'XJDXH2': {'lat': -21.22,\n",
       "  'long': 55.22,\n",
       "  'isDead': 0,\n",
       "  'pH': 8.87,\n",
       "  'temp': 16.74,\n",
       "  'isDive': 0,\n",
       "  'uID': -99999},\n",
       " '86PAYC': {'lat': -21.05,\n",
       "  'long': 55.23,\n",
       "  'isDead': 0,\n",
       "  'pH': 8.79,\n",
       "  'temp': 15.54,\n",
       "  'isDive': 0,\n",
       "  'uID': -99999},\n",
       " 'BYV4DR': {'lat': -21.16,\n",
       "  'long': 55.28,\n",
       "  'isDead': 0,\n",
       "  'pH': 8.65,\n",
       "  'temp': 16.97,\n",
       "  'isDive': 0,\n",
       "  'uID': -99999},\n",
       " 'NAAWR2': {'lat': 43.0,\n",
       "  'long': 5.0,\n",
       "  'isDead': 0,\n",
       "  'pH': 8.76,\n",
       "  'temp': 18.72,\n",
       "  'isDive': 0,\n",
       "  'uID': -99999},\n",
       " 'QSY8QV': {'lat': 10.12,\n",
       "  'long': 99.81,\n",
       "  'isDead': 0,\n",
       "  'pH': 8.71,\n",
       "  'temp': 16.96,\n",
       "  'isDive': 0,\n",
       "  'uID': -99999},\n",
       " 'V8BWM3': {'lat': -16.63333,\n",
       "  'long': 59.63333,\n",
       "  'isDead': 0,\n",
       "  'pH': 8.63,\n",
       "  'temp': 18.84,\n",
       "  'isDive': 0,\n",
       "  'uID': -99999},\n",
       " 'K5B91O': {'lat': 16.0,\n",
       "  'long': -95.0,\n",
       "  'isDead': 1,\n",
       "  'pH': 8.63,\n",
       "  'temp': 16.51,\n",
       "  'isDive': 0,\n",
       "  'uID': -99999},\n",
       " 'L7GTSO': {'lat': 9.2723,\n",
       "  'long': -82.0065,\n",
       "  'isDead': 1,\n",
       "  'pH': 8.84,\n",
       "  'temp': 17.0,\n",
       "  'isDive': 0,\n",
       "  'uID': -99999},\n",
       " 'L615GM': {'lat': 17.79,\n",
       "  'long': -64.63,\n",
       "  'isDead': 1,\n",
       "  'pH': 8.51,\n",
       "  'temp': 18.68,\n",
       "  'isDive': 0,\n",
       "  'uID': -99999},\n",
       " 'HLDTHS': {'lat': 17.684,\n",
       "  'long': -64.739,\n",
       "  'isDead': 1,\n",
       "  'pH': 8.84,\n",
       "  'temp': 16.6,\n",
       "  'isDive': 0,\n",
       "  'uID': -99999}}"
      ]
     },
     "execution_count": 90,
     "metadata": {},
     "output_type": "execute_result"
    }
   ],
   "source": [
    "dic_data = df[:10].to_dict('index')\n",
    "dic_data"
   ]
  },
  {
   "cell_type": "markdown",
   "metadata": {},
   "source": [
    "### Establishing Firebase Connection and Uploading Data realtime"
   ]
  },
  {
   "cell_type": "code",
   "execution_count": 91,
   "metadata": {},
   "outputs": [],
   "source": [
    "fb = firebase.FirebaseApplication('https://coralprotect-4d11c.firebaseio.com/', None)"
   ]
  },
  {
   "cell_type": "code",
   "execution_count": 92,
   "metadata": {},
   "outputs": [],
   "source": [
    "j = 3\n",
    "for i in range(20):\n",
    "    fb.put('Pi', ''.join(random.SystemRandom().choice(string.ascii_uppercase + string.digits) for _ in range(8)), df[j-3:j].to_dict('index'))\n",
    "    j = j + 3"
   ]
  }
 ],
 "metadata": {
  "kernelspec": {
   "display_name": "Python 3",
   "language": "python",
   "name": "python3"
  },
  "language_info": {
   "codemirror_mode": {
    "name": "ipython",
    "version": 3
   },
   "file_extension": ".py",
   "mimetype": "text/x-python",
   "name": "python",
   "nbconvert_exporter": "python",
   "pygments_lexer": "ipython3",
   "version": "3.6.5"
  }
 },
 "nbformat": 4,
 "nbformat_minor": 2
}
